{
 "cells": [
  {
   "cell_type": "markdown",
   "metadata": {
    "id": "efug1V4CM0lT"
   },
   "source": [
    "### Завдання 1: Створення матриць та векторів\n",
    "1. Створіть `numpy` вектор `vector` розмірністю 10 з випадковими дійсними значеннями в діапазоні від 0 до 1. Можна скористатись двома альтернативними варіантами:\n",
    "  1. Генерація випадкових чисел з модулем [`random.uniform`](https://docs.python.org/3/library/random.html).\n",
    "  2. Створення вектора з допомогою метода `numpy` [np.random.rand](https://numpy.org/doc/stable/reference/random/generated/numpy.random.rand.html)\n",
    "\n",
    "2. Створіть матрицю `matrix` типу `numpy.array` розмірності 3x3 з наступними значеннями\n",
    "\n",
    "  $$\n",
    "  matrix = \\begin{bmatrix}\n",
    "  11 & 14 & 17 \\\\\n",
    "  20 & 23 & 26 \\\\\n",
    "  29 & 32 & 35\n",
    "  \\end{bmatrix}\n",
    "  $$\n",
    "\n",
    "  будь-яким відомими Вам способом.\n",
    "\n",
    "Виведіть на екран вектор і матрицю, а також їх розміри.\n"
   ]
  },
  {
   "cell_type": "code",
   "execution_count": 25,
   "metadata": {
    "id": "jxA_lG2_VIMe"
   },
   "outputs": [
    {
     "name": "stdout",
     "output_type": "stream",
     "text": [
      "[[0.40645362]\n",
      " [0.01080909]\n",
      " [0.14936903]\n",
      " [0.82883161]\n",
      " [0.25352622]\n",
      " [0.40386475]\n",
      " [0.00700592]\n",
      " [0.19705675]\n",
      " [0.10886259]\n",
      " [0.74162632]]\n",
      "(10, 1) \n",
      "\n",
      "[[11 14 17]\n",
      " [20 23 26]\n",
      " [29 32 35]]\n",
      "(3, 3)\n"
     ]
    }
   ],
   "source": [
    "import numpy as np\n",
    "\n",
    "vector = np.random.rand(10, 1)\n",
    "print(vector)\n",
    "print(vector.shape, '\\n')\n",
    "\n",
    "matrix = np.array([[11, 14, 17],\n",
    "          [20, 23, 26],\n",
    "          [29, 32, 35]])\n",
    "print(matrix)\n",
    "print(matrix.shape)"
   ]
  },
  {
   "cell_type": "markdown",
   "metadata": {
    "id": "TSJ1P4OuOVe2"
   },
   "source": [
    "\n",
    "### Завдання 2: Операції над векторами та матрицями\n",
    "Виконайте кожну з зазначених операцій над зазначеними оʼєктами і виведіть результат на екран:\n",
    "1. Додайте до кожного значення вектора `vector` число 10 і округліть кожне значення до 2 знаків після коми без використання циклів.\n",
    "2. Помножте кожен елемент матриці з першого завдання на 2 без використання циклів.\n",
    "3. Створіть новий вектор, який містить квадрат кожного `vector` без циклів.\n"
   ]
  },
  {
   "cell_type": "code",
   "execution_count": 45,
   "metadata": {
    "id": "nAAojtyUVJXN"
   },
   "outputs": [
    {
     "name": "stdout",
     "output_type": "stream",
     "text": [
      "1. [[10.41]\n",
      " [10.01]\n",
      " [10.15]\n",
      " [10.83]\n",
      " [10.25]\n",
      " [10.4 ]\n",
      " [10.01]\n",
      " [10.2 ]\n",
      " [10.11]\n",
      " [10.74]] \n",
      "\n",
      "2. [[22 28 34]\n",
      " [40 46 52]\n",
      " [58 64 70]] \n",
      "\n",
      "3. [[1.65204544e-01]\n",
      " [1.16836423e-04]\n",
      " [2.23111081e-02]\n",
      " [6.86961830e-01]\n",
      " [6.42755421e-02]\n",
      " [1.63106733e-01]\n",
      " [4.90829242e-05]\n",
      " [3.88313618e-02]\n",
      " [1.18510636e-02]\n",
      " [5.50009603e-01]] \n",
      "\n"
     ]
    }
   ],
   "source": [
    "print(\"1.\", (vector + 10).round(2), '\\n')\n",
    "print(\"2.\", matrix * 2, '\\n')\n",
    "new_vector = vector**2\n",
    "print(\"3.\", new_vector, '\\n')"
   ]
  },
  {
   "cell_type": "markdown",
   "metadata": {
    "id": "u6RvWVfhPy-k"
   },
   "source": [
    "\n",
    "### Завдання 3: Множення матриць\n",
    "1. Задані дві матриці `A` і `B`розмірностями 3x2 та 2х3. Виконайте їхнє множення, щоб отримати матрицю 2x2. Виведіть результуючу матрицю `result_matrix` на екран.\n",
    "\n",
    "2. Заданий вектор `C` розмірністю 2х1. Подумайте спочатку, яку розмірність Ви отрмаєте, коли домножите `result_matrix` на вектор `C` і який результат буде. А потім виконайте множення і виведіть результат на екран.\n",
    "\n",
    "3. Задана матриця `D` розмірністю 2х2. Подумайте спочатку, яку розмірність Ви отрмаєте, коли домножите `result_matrix` на матрицю `D` і який результат буде. А потім виконайте множення і виведіть результат на екран."
   ]
  },
  {
   "cell_type": "code",
   "execution_count": 47,
   "metadata": {
    "id": "RwXfPzlbSJ44"
   },
   "outputs": [
    {
     "data": {
      "text/plain": [
       "array([[0.18, 0.53],\n",
       "       [0.75, 0.47],\n",
       "       [0.35, 0.21]])"
      ]
     },
     "metadata": {},
     "output_type": "display_data"
    },
    {
     "data": {
      "text/plain": [
       "array([[0.17, 0.58, 0.75],\n",
       "       [0.38, 0.11, 0.15]])"
      ]
     },
     "metadata": {},
     "output_type": "display_data"
    },
    {
     "data": {
      "text/plain": [
       "array([[0],\n",
       "       [1]])"
      ]
     },
     "metadata": {},
     "output_type": "display_data"
    },
    {
     "data": {
      "text/plain": [
       "array([[0, 1],\n",
       "       [1, 0]])"
      ]
     },
     "metadata": {},
     "output_type": "display_data"
    }
   ],
   "source": [
    "A = np.array(\n",
    "    [[0.18, 0.53],\n",
    "     [0.75, 0.47],\n",
    "     [0.35, 0.21]])\n",
    "\n",
    "B = np.array(\n",
    "    [[0.17, 0.58, 0.75],\n",
    "     [0.38, 0.11, 0.15]])\n",
    "\n",
    "C = np.array([[0], [1]])\n",
    "\n",
    "D = np.array([[0,1], [1,0]])\n",
    "\n",
    "display(A, B, C, D)"
   ]
  },
  {
   "cell_type": "code",
   "execution_count": 53,
   "metadata": {
    "id": "z7-boTbhVKkj"
   },
   "outputs": [
    {
     "data": {
      "text/plain": [
       "array([[0.7281, 0.5202],\n",
       "       [0.2034, 0.2846]])"
      ]
     },
     "execution_count": 53,
     "metadata": {},
     "output_type": "execute_result"
    }
   ],
   "source": [
    "result_matrix = np.dot(B, A)\n",
    "result_matrix"
   ]
  },
  {
   "cell_type": "code",
   "execution_count": 55,
   "metadata": {},
   "outputs": [
    {
     "data": {
      "text/plain": [
       "array([[0.5202],\n",
       "       [0.2846]])"
      ]
     },
     "execution_count": 55,
     "metadata": {},
     "output_type": "execute_result"
    }
   ],
   "source": [
    "np.dot(result_matrix, C)"
   ]
  },
  {
   "cell_type": "code",
   "execution_count": 57,
   "metadata": {},
   "outputs": [
    {
     "data": {
      "text/plain": [
       "array([[0.5202, 0.7281],\n",
       "       [0.2846, 0.2034]])"
      ]
     },
     "execution_count": 57,
     "metadata": {},
     "output_type": "execute_result"
    }
   ],
   "source": [
    "np.dot(result_matrix, D)"
   ]
  },
  {
   "cell_type": "markdown",
   "metadata": {
    "id": "wohp0_cxSGpl"
   },
   "source": [
    "\n",
    "### Завдання 4: Транспонування матриць\n",
    "1. Транспонуйте `result_matrix`.\n",
    "2. Зробіть транспонування вектора `vector` і виведіть форму нової структури. Чи бачите ви зміну?\n",
    "3. Використайте операцію `numpy.expand_dims` над вектором `vector` з аргументом axis=1. Запишіть отриманий результат в змінну `column_vector` і виведіть на екран. Порівняйте з `vector`.\n",
    "4. Зробіть транспонування `column_vector`, виведіть результат на екран разом з розмірностями отриманої структури.\n",
    "\n",
    "\n"
   ]
  },
  {
   "cell_type": "code",
   "execution_count": 59,
   "metadata": {
    "id": "4hFcq1baVLii"
   },
   "outputs": [
    {
     "data": {
      "text/plain": [
       "array([[0.7281, 0.2034],\n",
       "       [0.5202, 0.2846]])"
      ]
     },
     "execution_count": 59,
     "metadata": {},
     "output_type": "execute_result"
    }
   ],
   "source": [
    "result_matrix.T"
   ]
  },
  {
   "cell_type": "code",
   "execution_count": 67,
   "metadata": {},
   "outputs": [
    {
     "name": "stdout",
     "output_type": "stream",
     "text": [
      "(1, 10)\n",
      "Тепер вектор став вертикальним\n"
     ]
    }
   ],
   "source": [
    "print(vector.T.shape)\n",
    "print(\"Тепер вектор став вертикальним\")"
   ]
  },
  {
   "cell_type": "code",
   "execution_count": 81,
   "metadata": {},
   "outputs": [
    {
     "name": "stdout",
     "output_type": "stream",
     "text": [
      "[[0.40645362]\n",
      " [0.01080909]\n",
      " [0.14936903]\n",
      " [0.82883161]\n",
      " [0.25352622]\n",
      " [0.40386475]\n",
      " [0.00700592]\n",
      " [0.19705675]\n",
      " [0.10886259]\n",
      " [0.74162632]]\n",
      "[[[0.40645362]]\n",
      "\n",
      " [[0.01080909]]\n",
      "\n",
      " [[0.14936903]]\n",
      "\n",
      " [[0.82883161]]\n",
      "\n",
      " [[0.25352622]]\n",
      "\n",
      " [[0.40386475]]\n",
      "\n",
      " [[0.00700592]]\n",
      "\n",
      " [[0.19705675]]\n",
      "\n",
      " [[0.10886259]]\n",
      "\n",
      " [[0.74162632]]]\n",
      "Змінилась розмірність вектору, тепер він трьохмірний\n"
     ]
    }
   ],
   "source": [
    "print(vector)\n",
    "column_vector = np.expand_dims(vector, axis=1)\n",
    "print(column_vector)\n",
    "print(\"Змінилась розмірність вектору, тепер він трьохмірний\")"
   ]
  },
  {
   "cell_type": "code",
   "execution_count": 87,
   "metadata": {},
   "outputs": [
    {
     "name": "stdout",
     "output_type": "stream",
     "text": [
      "[[[0.40645362 0.01080909 0.14936903 0.82883161 0.25352622 0.40386475\n",
      "   0.00700592 0.19705675 0.10886259 0.74162632]]]\n"
     ]
    },
    {
     "data": {
      "text/plain": [
       "(10, 1, 1)"
      ]
     },
     "execution_count": 87,
     "metadata": {},
     "output_type": "execute_result"
    }
   ],
   "source": [
    "print(column_vector.T)\n",
    "column_vector.shape"
   ]
  }
 ],
 "metadata": {
  "colab": {
   "provenance": []
  },
  "kernelspec": {
   "display_name": "Python [conda env:base] *",
   "language": "python",
   "name": "conda-base-py"
  },
  "language_info": {
   "codemirror_mode": {
    "name": "ipython",
    "version": 3
   },
   "file_extension": ".py",
   "mimetype": "text/x-python",
   "name": "python",
   "nbconvert_exporter": "python",
   "pygments_lexer": "ipython3",
   "version": "3.12.7"
  }
 },
 "nbformat": 4,
 "nbformat_minor": 4
}
